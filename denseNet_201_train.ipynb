{
  "cells": [
    {
      "cell_type": "markdown",
      "metadata": {
        "id": "4Y22eWFZEsr7"
      },
      "source": [
        "## **Train with DenseNet201**"
      ]
    },
    {
      "cell_type": "markdown",
      "metadata": {
        "id": "28ftq7PUH2OU"
      },
      "source": [
        "# **Initialize**"
      ]
    },
    {
      "cell_type": "markdown",
      "metadata": {
        "id": "D-drjbHVE-iN"
      },
      "source": [
        "**Import**"
      ]
    },
    {
      "cell_type": "code",
      "execution_count": 1,
      "metadata": {
        "id": "PJI04kEgE9oB"
      },
      "outputs": [],
      "source": [
        "import sys\n",
        "import tensorflow as tf\n",
        "\n",
        "# Google Colab specific imports\n",
        "from google.colab import drive\n",
        "from google.colab.patches import cv2_imshow\n",
        "\n",
        "# Package for DenseNet\n",
        "from tensorflow.keras.applications import DenseNet201\n",
        "from tensorflow.keras.layers import Dense, GlobalAveragePooling2D\n",
        "from tensorflow.keras.models import Model\n",
        "from tensorflow.keras.layers import Dropout\n",
        "from tensorflow.keras.regularizers import l2\n",
        "from sklearn.utils.class_weight import compute_class_weight\n",
        "from tensorflow.keras.callbacks import ModelCheckpoint, ReduceLROnPlateau, EarlyStopping\n",
        "\n",
        "import matplotlib.pyplot as plt"
      ]
    },
    {
      "cell_type": "markdown",
      "metadata": {
        "id": "2qv6ISXNFBqV"
      },
      "source": [
        "**Mount Google Drive**"
      ]
    },
    {
      "cell_type": "code",
      "execution_count": 2,
      "metadata": {
        "colab": {
          "base_uri": "https://localhost:8080/"
        },
        "id": "WkPdLmOIFj1M",
        "outputId": "67528ec0-47e6-4b7d-aba6-7db04a2b1ad7"
      },
      "outputs": [
        {
          "name": "stdout",
          "output_type": "stream",
          "text": [
            "Mounted at /content/drive\n"
          ]
        }
      ],
      "source": [
        "# Mount Google Drive\n",
        "drive.mount('/content/drive')"
      ]
    },
    {
      "cell_type": "markdown",
      "metadata": {
        "id": "SmYsOZhSGPzq"
      },
      "source": [
        "**Variables**"
      ]
    },
    {
      "cell_type": "code",
      "execution_count": 3,
      "metadata": {
        "id": "-WtM-W2RGSiO"
      },
      "outputs": [],
      "source": [
        "# Global variables\n",
        "train_generator = None\n",
        "val_generator = None\n",
        "model = None\n",
        "base_model = None\n",
        "class_names = None\n",
        "\n",
        "# File paths\n",
        "FULL_DATA_PATH = path_to_your_dataset\n",
        "\n",
        "model_file_path = path_to_save_model\n",
        "model_fint_tune_file_path = path_to_save_fine_tune_model"
      ]
    },
    {
      "cell_type": "markdown",
      "metadata": {
        "id": "5B0SZSTWGWFA"
      },
      "source": [
        "**Ensure GPU usage**"
      ]
    },
    {
      "cell_type": "code",
      "execution_count": 4,
      "metadata": {
        "colab": {
          "base_uri": "https://localhost:8080/"
        },
        "id": "kEeHFgVWGbV8",
        "outputId": "4b4fa8a4-8c7a-470f-ab3a-4f9ade4c5c4a"
      },
      "outputs": [
        {
          "name": "stdout",
          "output_type": "stream",
          "text": [
            "Found GPU at: /device:GPU:0\n"
          ]
        }
      ],
      "source": [
        "device_name = tf.test.gpu_device_name()\n",
        "if device_name == \"\":\n",
        "    print(\"GPU device not found. Please enable GPU in Colab runtime.\")\n",
        "else:\n",
        "    print(f\"Found GPU at: {device_name}\")"
      ]
    },
    {
      "cell_type": "markdown",
      "metadata": {
        "id": "ZagAeJ-kG3EY"
      },
      "source": [
        "# **Data Preprocess**"
      ]
    },
    {
      "cell_type": "code",
      "execution_count": 10,
      "metadata": {
        "id": "ztzD3mw6G8Q-"
      },
      "outputs": [],
      "source": [
        "def data_preprocess():\n",
        "    global train_generator, val_generator, train_dataset, val_dataset, class_names\n",
        "\n",
        "    dataset_path = FULL_DATA_PATH\n",
        "    data_augmentation = tf.keras.Sequential([\n",
        "        tf.keras.layers.RandomFlip(\"horizontal_and_vertical\"), # Add horizontal and vertical randomness\n",
        "        tf.keras.layers.RandomRotation(0.3),  # Add rotation randomness\n",
        "        tf.keras.layers.RandomZoom(0.3),      # Add zoom randomness\n",
        "        tf.keras.layers.RandomContrast(0.2),  # Add random contrast adjustments\n",
        "        tf.keras.layers.RandomBrightness(0.2),  # Add random brightness adjustments\n",
        "        tf.keras.layers.Resizing(224, 224),    # Resize back to target size\n",
        "    ])\n",
        "\n",
        "    # Load training dataset\n",
        "    train_dataset = tf.keras.utils.image_dataset_from_directory(\n",
        "        dataset_path,\n",
        "        validation_split=0.2,  # Reserve 20% for validation\n",
        "        subset=\"training\",\n",
        "        seed=23,  # Seed for reproducibility\n",
        "        image_size=(224, 224),\n",
        "        batch_size=32\n",
        "    )\n",
        "\n",
        "    # Extract and store class names\n",
        "    class_names = train_dataset.class_names\n",
        "\n",
        "    # Apply data augmentation and normalization to training dataset\n",
        "    normalization_layer = tf.keras.layers.Rescaling(1./255)\n",
        "    train_generator = train_dataset.map(\n",
        "        lambda x, y: (normalization_layer(data_augmentation(x)), y)\n",
        "    )\n",
        "\n",
        "    # Load validation dataset\n",
        "    val_dataset = tf.keras.utils.image_dataset_from_directory(\n",
        "        dataset_path,\n",
        "        validation_split=0.2,  # Reserve 20% for validation\n",
        "        subset=\"validation\",\n",
        "        seed=23,  # Seed for reproducibility\n",
        "        image_size=(224, 224),\n",
        "        batch_size=32\n",
        "    )\n",
        "\n",
        "    # Normalize validation dataset\n",
        "    val_generator = val_dataset.map(\n",
        "        lambda x, y: (normalization_layer(x), y)\n",
        "    )\n",
        "\n",
        "    # Prefetch datasets for improved performance\n",
        "    AUTOTUNE = tf.data.AUTOTUNE\n",
        "    train_generator = train_generator.prefetch(buffer_size=AUTOTUNE)\n",
        "    val_generator = val_generator.prefetch(buffer_size=AUTOTUNE)"
      ]
    },
    {
      "cell_type": "code",
      "execution_count": 11,
      "metadata": {
        "colab": {
          "base_uri": "https://localhost:8080/"
        },
        "id": "xZyloQJoHIFC",
        "outputId": "8f908370-c5bf-457d-c713-d34683035b5a"
      },
      "outputs": [
        {
          "name": "stdout",
          "output_type": "stream",
          "text": [
            "Found 77382 files belonging to 100 classes.\n",
            "Using 69644 files for training.\n",
            "Found 77382 files belonging to 100 classes.\n",
            "Using 7738 files for validation.\n"
          ]
        }
      ],
      "source": [
        "data_preprocess()"
      ]
    },
    {
      "cell_type": "markdown",
      "metadata": {
        "id": "oxrhPucYHEYc"
      },
      "source": [
        "# **Load Model**"
      ]
    },
    {
      "cell_type": "markdown",
      "metadata": {
        "id": "W1j8lNBxCv2S"
      },
      "source": [
        "### **Initialize model**"
      ]
    },
    {
      "cell_type": "code",
      "execution_count": null,
      "metadata": {
        "colab": {
          "base_uri": "https://localhost:8080/"
        },
        "collapsed": true,
        "id": "J2Qrd7EAHfo-",
        "outputId": "a33534f2-5e49-4c4a-90d7-9f5db9e7b499"
      },
      "outputs": [
        {
          "name": "stdout",
          "output_type": "stream",
          "text": [
            "Downloading data from https://storage.googleapis.com/tensorflow/keras-applications/densenet/densenet201_weights_tf_dim_ordering_tf_kernels_notop.h5\n",
            "\u001b[1m74836368/74836368\u001b[0m \u001b[32m━━━━━━━━━━━━━━━━━━━━\u001b[0m\u001b[37m\u001b[0m \u001b[1m0s\u001b[0m 0us/step\n"
          ]
        }
      ],
      "source": [
        "def load_densenet201():\n",
        "    global model, base_model, class_names\n",
        "    # Load pre-trained DenseNet201 model, excluding top layers\n",
        "    base_model = DenseNet201(weights='imagenet', include_top=False, input_shape=(224, 224, 3))\n",
        "\n",
        "    # Freeze the base model\n",
        "    # base_model.trainable = False\n",
        "\n",
        "    base_model.trainable = True\n",
        "    for layer in base_model.layers:\n",
        "      if 'conv5' in layer.name:\n",
        "        layer.trainable = True\n",
        "      else:\n",
        "        layer.trainable = False\n",
        "\n",
        "    # Add new layers\n",
        "    x = GlobalAveragePooling2D()(base_model.output)\n",
        "    x = Dense(128, activation='relu', kernel_regularizer=l2(0.01))(x)\n",
        "    x = Dropout(0.5)(x)\n",
        "    predictions = Dense(len(class_names), activation='softmax')(x)  # Output layer\n",
        "\n",
        "    # Construct the final model\n",
        "    model = Model(inputs=base_model.input, outputs=predictions)\n",
        "\n",
        "    model.compile(\n",
        "        optimizer=tf.keras.optimizers.Adam(learning_rate=1e-3),\n",
        "        loss='sparse_categorical_crossentropy',\n",
        "        metrics=['accuracy']\n",
        "    )\n",
        "load_densenet201()"
      ]
    },
    {
      "cell_type": "markdown",
      "metadata": {
        "id": "T571PIOACyvu"
      },
      "source": [
        "### **load model to continue training**"
      ]
    },
    {
      "cell_type": "code",
      "execution_count": 7,
      "metadata": {
        "id": "UdR3kpRYCjFF"
      },
      "outputs": [],
      "source": [
        "from tensorflow.keras.models import load_model\n",
        "\n",
        "# Load the saved model\n",
        "model_path = path_to_the_model_you_want_to_keep_training\n",
        "model = load_model(model_path)\n"
      ]
    },
    {
      "cell_type": "markdown",
      "metadata": {
        "id": "ogNIz-NEHsYl"
      },
      "source": [
        "# **Train model**"
      ]
    },
    {
      "cell_type": "code",
      "execution_count": 8,
      "metadata": {
        "id": "T7rTvwUiLEkd"
      },
      "outputs": [],
      "source": [
        "import numpy as np"
      ]
    },
    {
      "cell_type": "code",
      "execution_count": null,
      "metadata": {
        "id": "GfaLch4NE0w_"
      },
      "outputs": [],
      "source": [
        "def model_train():\n",
        "    global model, train_generator, val_generator, class_names\n",
        "\n",
        "    # Compute class weights\n",
        "    class_weights = compute_class_weight(\n",
        "        class_weight='balanced',\n",
        "        classes=np.unique(class_names),\n",
        "        y=class_names\n",
        "    )\n",
        "    class_weights_dict = dict(enumerate(class_weights))\n",
        "\n",
        "    lr_scheduler = tf.keras.callbacks.ReduceLROnPlateau(\n",
        "        monitor='val_loss', factor=0.6, patience=2, verbose=1, min_lr=1e-5\n",
        "    )\n",
        "\n",
        "    early_stopping = tf.keras.callbacks.EarlyStopping(\n",
        "        monitor='val_accuracy', patience=10, restore_best_weights=True\n",
        "    )\n",
        "\n",
        "    checkpoint = ModelCheckpoint(\n",
        "        filepath=model_file_path,\n",
        "        monitor='val_loss',\n",
        "        save_best_only=True,\n",
        "        verbose=1\n",
        "    )\n",
        "\n",
        "    # Train the model\n",
        "    history = model.fit(\n",
        "        train_generator,\n",
        "        validation_data=val_generator,\n",
        "        epochs=50,\n",
        "        callbacks=[lr_scheduler, checkpoint],\n",
        "        class_weight=class_weights_dict\n",
        "    )\n",
        "    return history\n",
        "\n",
        "def model_eval():\n",
        "    global model, val_generator\n",
        "    loss, accuracy = model.evaluate(val_generator)\n",
        "    print(f\"Validation Accuracy: {accuracy * 100:.2f}%\")\n",
        "\n",
        "\n",
        "def plot_training_curves(history):\n",
        "    # Plot training & validation accuracy values\n",
        "    plt.figure(figsize=(12, 6))\n",
        "    plt.subplot(1, 2, 1)\n",
        "    plt.plot(history.history['accuracy'], label='Training Accuracy')\n",
        "    plt.plot(history.history['val_accuracy'], label='Validation Accuracy')\n",
        "    plt.title('Model Accuracy')\n",
        "    plt.xlabel('Epoch')\n",
        "    plt.ylabel('Accuracy')\n",
        "    plt.legend(loc='best')\n",
        "\n",
        "    # Plot training & validation loss values\n",
        "    plt.subplot(1, 2, 2)\n",
        "    plt.plot(history.history['loss'], label='Training Loss')\n",
        "    plt.plot(history.history['val_loss'], label='Validation Loss')\n",
        "    plt.title('Model Loss')\n",
        "    plt.xlabel('Epoch')\n",
        "    plt.ylabel('Loss')\n",
        "    plt.legend(loc='best')\n",
        "    plt.tight_layout()\n",
        "    plt.show()"
      ]
    },
    {
      "cell_type": "markdown",
      "metadata": {
        "id": "eWQuwqJy8hHS"
      },
      "source": [
        "accuracy: 0.0059 - loss: 7.2531\n",
        "Validation Accuracy: 0.67%"
      ]
    },
    {
      "cell_type": "code",
      "execution_count": null,
      "metadata": {
        "colab": {
          "base_uri": "https://localhost:8080/"
        },
        "id": "EOjW7Q1bJEp2",
        "outputId": "9f1f2138-d48f-4885-8b3b-239df41c036e"
      },
      "outputs": [
        {
          "name": "stdout",
          "output_type": "stream",
          "text": [
            "Epoch 1/50\n",
            "\u001b[1m1935/1935\u001b[0m \u001b[32m━━━━━━━━━━━━━━━━━━━━\u001b[0m\u001b[37m\u001b[0m \u001b[1m0s\u001b[0m 510ms/step - accuracy: 0.4313 - loss: 2.8622\n",
            "Epoch 1: val_loss improved from inf to 1.26449, saving model to /content/drive/MyDrive/results/DensNet_full_2.keras\n",
            "\u001b[1m1935/1935\u001b[0m \u001b[32m━━━━━━━━━━━━━━━━━━━━\u001b[0m\u001b[37m\u001b[0m \u001b[1m1148s\u001b[0m 540ms/step - accuracy: 0.4314 - loss: 2.8619 - val_accuracy: 0.6899 - val_loss: 1.2645 - learning_rate: 0.0010\n",
            "Epoch 2/50\n",
            "\u001b[1m1935/1935\u001b[0m \u001b[32m━━━━━━━━━━━━━━━━━━━━\u001b[0m\u001b[37m\u001b[0m \u001b[1m0s\u001b[0m 425ms/step - accuracy: 0.6425 - loss: 1.5045\n",
            "Epoch 2: val_loss improved from 1.26449 to 1.09248, saving model to /content/drive/MyDrive/results/DensNet_full_2.keras\n",
            "\u001b[1m1935/1935\u001b[0m \u001b[32m━━━━━━━━━━━━━━━━━━━━\u001b[0m\u001b[37m\u001b[0m \u001b[1m850s\u001b[0m 439ms/step - accuracy: 0.6425 - loss: 1.5045 - val_accuracy: 0.7368 - val_loss: 1.0925 - learning_rate: 0.0010\n",
            "Epoch 3/50\n",
            "\u001b[1m1935/1935\u001b[0m \u001b[32m━━━━━━━━━━━━━━━━━━━━\u001b[0m\u001b[37m\u001b[0m \u001b[1m0s\u001b[0m 426ms/step - accuracy: 0.6812 - loss: 1.3399\n",
            "Epoch 3: val_loss improved from 1.09248 to 1.04700, saving model to /content/drive/MyDrive/results/DensNet_full_2.keras\n",
            "\u001b[1m1935/1935\u001b[0m \u001b[32m━━━━━━━━━━━━━━━━━━━━\u001b[0m\u001b[37m\u001b[0m \u001b[1m851s\u001b[0m 440ms/step - accuracy: 0.6812 - loss: 1.3398 - val_accuracy: 0.7492 - val_loss: 1.0470 - learning_rate: 0.0010\n",
            "Epoch 4/50\n",
            "\u001b[1m1935/1935\u001b[0m \u001b[32m━━━━━━━━━━━━━━━━━━━━\u001b[0m\u001b[37m\u001b[0m \u001b[1m0s\u001b[0m 426ms/step - accuracy: 0.7038 - loss: 1.2348\n",
            "Epoch 4: val_loss improved from 1.04700 to 1.01517, saving model to /content/drive/MyDrive/results/DensNet_full_2.keras\n",
            "\u001b[1m1935/1935\u001b[0m \u001b[32m━━━━━━━━━━━━━━━━━━━━\u001b[0m\u001b[37m\u001b[0m \u001b[1m852s\u001b[0m 440ms/step - accuracy: 0.7038 - loss: 1.2348 - val_accuracy: 0.7577 - val_loss: 1.0152 - learning_rate: 0.0010\n",
            "Epoch 5/50\n",
            "\u001b[1m1935/1935\u001b[0m \u001b[32m━━━━━━━━━━━━━━━━━━━━\u001b[0m\u001b[37m\u001b[0m \u001b[1m0s\u001b[0m 425ms/step - accuracy: 0.7178 - loss: 1.1787\n",
            "Epoch 5: val_loss improved from 1.01517 to 0.96826, saving model to /content/drive/MyDrive/results/DensNet_full_2.keras\n",
            "\u001b[1m1935/1935\u001b[0m \u001b[32m━━━━━━━━━━━━━━━━━━━━\u001b[0m\u001b[37m\u001b[0m \u001b[1m851s\u001b[0m 439ms/step - accuracy: 0.7178 - loss: 1.1787 - val_accuracy: 0.7707 - val_loss: 0.9683 - learning_rate: 0.0010\n",
            "Epoch 6/50\n",
            "\u001b[1m1935/1935\u001b[0m \u001b[32m━━━━━━━━━━━━━━━━━━━━\u001b[0m\u001b[37m\u001b[0m \u001b[1m0s\u001b[0m 425ms/step - accuracy: 0.7293 - loss: 1.1242\n",
            "Epoch 6: val_loss improved from 0.96826 to 0.92644, saving model to /content/drive/MyDrive/results/DensNet_full_2.keras\n",
            "\u001b[1m1935/1935\u001b[0m \u001b[32m━━━━━━━━━━━━━━━━━━━━\u001b[0m\u001b[37m\u001b[0m \u001b[1m849s\u001b[0m 439ms/step - accuracy: 0.7293 - loss: 1.1242 - val_accuracy: 0.7766 - val_loss: 0.9264 - learning_rate: 0.0010\n",
            "Epoch 7/50\n",
            "\u001b[1m1935/1935\u001b[0m \u001b[32m━━━━━━━━━━━━━━━━━━━━\u001b[0m\u001b[37m\u001b[0m \u001b[1m0s\u001b[0m 424ms/step - accuracy: 0.7406 - loss: 1.0769\n",
            "Epoch 7: val_loss did not improve from 0.92644\n",
            "\u001b[1m1935/1935\u001b[0m \u001b[32m━━━━━━━━━━━━━━━━━━━━\u001b[0m\u001b[37m\u001b[0m \u001b[1m845s\u001b[0m 436ms/step - accuracy: 0.7406 - loss: 1.0769 - val_accuracy: 0.7818 - val_loss: 0.9464 - learning_rate: 0.0010\n",
            "Epoch 8/50\n",
            "\u001b[1m1935/1935\u001b[0m \u001b[32m━━━━━━━━━━━━━━━━━━━━\u001b[0m\u001b[37m\u001b[0m \u001b[1m0s\u001b[0m 424ms/step - accuracy: 0.7485 - loss: 1.0468\n",
            "Epoch 8: ReduceLROnPlateau reducing learning rate to 0.0006000000284984708.\n",
            "\n",
            "Epoch 8: val_loss did not improve from 0.92644\n",
            "\u001b[1m1935/1935\u001b[0m \u001b[32m━━━━━━━━━━━━━━━━━━━━\u001b[0m\u001b[37m\u001b[0m \u001b[1m845s\u001b[0m 436ms/step - accuracy: 0.7485 - loss: 1.0468 - val_accuracy: 0.7780 - val_loss: 0.9623 - learning_rate: 0.0010\n",
            "Epoch 9/50\n",
            "\u001b[1m1935/1935\u001b[0m \u001b[32m━━━━━━━━━━━━━━━━━━━━\u001b[0m\u001b[37m\u001b[0m \u001b[1m0s\u001b[0m 426ms/step - accuracy: 0.7733 - loss: 0.9255\n",
            "Epoch 9: val_loss improved from 0.92644 to 0.84062, saving model to /content/drive/MyDrive/results/DensNet_full_2.keras\n",
            "\u001b[1m1935/1935\u001b[0m \u001b[32m━━━━━━━━━━━━━━━━━━━━\u001b[0m\u001b[37m\u001b[0m \u001b[1m851s\u001b[0m 439ms/step - accuracy: 0.7733 - loss: 0.9254 - val_accuracy: 0.7972 - val_loss: 0.8406 - learning_rate: 6.0000e-04\n",
            "Epoch 10/50\n",
            "\u001b[1m1935/1935\u001b[0m \u001b[32m━━━━━━━━━━━━━━━━━━━━\u001b[0m\u001b[37m\u001b[0m \u001b[1m0s\u001b[0m 424ms/step - accuracy: 0.7880 - loss: 0.8543\n",
            "Epoch 10: val_loss improved from 0.84062 to 0.83717, saving model to /content/drive/MyDrive/results/DensNet_full_2.keras\n",
            "\u001b[1m1935/1935\u001b[0m \u001b[32m━━━━━━━━━━━━━━━━━━━━\u001b[0m\u001b[37m\u001b[0m \u001b[1m847s\u001b[0m 437ms/step - accuracy: 0.7880 - loss: 0.8543 - val_accuracy: 0.7998 - val_loss: 0.8372 - learning_rate: 6.0000e-04\n",
            "Epoch 11/50\n",
            "\u001b[1m1935/1935\u001b[0m \u001b[32m━━━━━━━━━━━━━━━━━━━━\u001b[0m\u001b[37m\u001b[0m \u001b[1m0s\u001b[0m 424ms/step - accuracy: 0.7966 - loss: 0.8199\n",
            "Epoch 11: val_loss improved from 0.83717 to 0.79156, saving model to /content/drive/MyDrive/results/DensNet_full_2.keras\n",
            "\u001b[1m1935/1935\u001b[0m \u001b[32m━━━━━━━━━━━━━━━━━━━━\u001b[0m\u001b[37m\u001b[0m \u001b[1m848s\u001b[0m 438ms/step - accuracy: 0.7966 - loss: 0.8199 - val_accuracy: 0.8102 - val_loss: 0.7916 - learning_rate: 6.0000e-04\n",
            "Epoch 12/50\n",
            "\u001b[1m1935/1935\u001b[0m \u001b[32m━━━━━━━━━━━━━━━━━━━━\u001b[0m\u001b[37m\u001b[0m \u001b[1m0s\u001b[0m 426ms/step - accuracy: 0.8017 - loss: 0.7981\n",
            "Epoch 12: val_loss did not improve from 0.79156\n",
            "\u001b[1m1935/1935\u001b[0m \u001b[32m━━━━━━━━━━━━━━━━━━━━\u001b[0m\u001b[37m\u001b[0m \u001b[1m848s\u001b[0m 438ms/step - accuracy: 0.8017 - loss: 0.7981 - val_accuracy: 0.8105 - val_loss: 0.8048 - learning_rate: 6.0000e-04\n",
            "Epoch 13/50\n",
            "\u001b[1m1935/1935\u001b[0m \u001b[32m━━━━━━━━━━━━━━━━━━━━\u001b[0m\u001b[37m\u001b[0m \u001b[1m0s\u001b[0m 425ms/step - accuracy: 0.8067 - loss: 0.7768\n",
            "Epoch 13: ReduceLROnPlateau reducing learning rate to 0.0003600000170990825.\n",
            "\n",
            "Epoch 13: val_loss did not improve from 0.79156\n",
            "\u001b[1m1935/1935\u001b[0m \u001b[32m━━━━━━━━━━━━━━━━━━━━\u001b[0m\u001b[37m\u001b[0m \u001b[1m846s\u001b[0m 437ms/step - accuracy: 0.8067 - loss: 0.7768 - val_accuracy: 0.8056 - val_loss: 0.8273 - learning_rate: 6.0000e-04\n",
            "Epoch 14/50\n",
            "\u001b[1m1935/1935\u001b[0m \u001b[32m━━━━━━━━━━━━━━━━━━━━\u001b[0m\u001b[37m\u001b[0m \u001b[1m0s\u001b[0m 425ms/step - accuracy: 0.8243 - loss: 0.7052\n",
            "Epoch 14: val_loss improved from 0.79156 to 0.75001, saving model to /content/drive/MyDrive/results/DensNet_full_2.keras\n",
            "\u001b[1m1935/1935\u001b[0m \u001b[32m━━━━━━━━━━━━━━━━━━━━\u001b[0m\u001b[37m\u001b[0m \u001b[1m850s\u001b[0m 439ms/step - accuracy: 0.8243 - loss: 0.7052 - val_accuracy: 0.8199 - val_loss: 0.7500 - learning_rate: 3.6000e-04\n",
            "Epoch 15/50\n",
            "\u001b[1m1935/1935\u001b[0m \u001b[32m━━━━━━━━━━━━━━━━━━━━\u001b[0m\u001b[37m\u001b[0m \u001b[1m0s\u001b[0m 424ms/step - accuracy: 0.8347 - loss: 0.6511\n",
            "Epoch 15: val_loss did not improve from 0.75001\n",
            "\u001b[1m1935/1935\u001b[0m \u001b[32m━━━━━━━━━━━━━━━━━━━━\u001b[0m\u001b[37m\u001b[0m \u001b[1m846s\u001b[0m 437ms/step - accuracy: 0.8347 - loss: 0.6511 - val_accuracy: 0.8158 - val_loss: 0.7771 - learning_rate: 3.6000e-04\n",
            "Epoch 16/50\n",
            "\u001b[1m1935/1935\u001b[0m \u001b[32m━━━━━━━━━━━━━━━━━━━━\u001b[0m\u001b[37m\u001b[0m \u001b[1m0s\u001b[0m 426ms/step - accuracy: 0.8376 - loss: 0.6352\n",
            "Epoch 16: ReduceLROnPlateau reducing learning rate to 0.00021600000327453016.\n",
            "\n",
            "Epoch 16: val_loss did not improve from 0.75001\n",
            "\u001b[1m1935/1935\u001b[0m \u001b[32m━━━━━━━━━━━━━━━━━━━━\u001b[0m\u001b[37m\u001b[0m \u001b[1m849s\u001b[0m 438ms/step - accuracy: 0.8376 - loss: 0.6352 - val_accuracy: 0.8197 - val_loss: 0.7615 - learning_rate: 3.6000e-04\n",
            "Epoch 17/50\n",
            "\u001b[1m1935/1935\u001b[0m \u001b[32m━━━━━━━━━━━━━━━━━━━━\u001b[0m\u001b[37m\u001b[0m \u001b[1m0s\u001b[0m 425ms/step - accuracy: 0.8487 - loss: 0.5849\n",
            "Epoch 17: val_loss improved from 0.75001 to 0.73108, saving model to /content/drive/MyDrive/results/DensNet_full_2.keras\n",
            "\u001b[1m1935/1935\u001b[0m \u001b[32m━━━━━━━━━━━━━━━━━━━━\u001b[0m\u001b[37m\u001b[0m \u001b[1m848s\u001b[0m 438ms/step - accuracy: 0.8487 - loss: 0.5849 - val_accuracy: 0.8267 - val_loss: 0.7311 - learning_rate: 2.1600e-04\n",
            "Epoch 18/50\n",
            "\u001b[1m1935/1935\u001b[0m \u001b[32m━━━━━━━━━━━━━━━━━━━━\u001b[0m\u001b[37m\u001b[0m \u001b[1m0s\u001b[0m 425ms/step - accuracy: 0.8530 - loss: 0.5635\n",
            "Epoch 18: val_loss improved from 0.73108 to 0.70979, saving model to /content/drive/MyDrive/results/DensNet_full_2.keras\n",
            "\u001b[1m1935/1935\u001b[0m \u001b[32m━━━━━━━━━━━━━━━━━━━━\u001b[0m\u001b[37m\u001b[0m \u001b[1m849s\u001b[0m 439ms/step - accuracy: 0.8530 - loss: 0.5635 - val_accuracy: 0.8271 - val_loss: 0.7098 - learning_rate: 2.1600e-04\n",
            "Epoch 19/50\n",
            "\u001b[1m1935/1935\u001b[0m \u001b[32m━━━━━━━━━━━━━━━━━━━━\u001b[0m\u001b[37m\u001b[0m \u001b[1m0s\u001b[0m 425ms/step - accuracy: 0.8586 - loss: 0.5398\n",
            "Epoch 19: val_loss improved from 0.70979 to 0.69875, saving model to /content/drive/MyDrive/results/DensNet_full_2.keras\n",
            "\u001b[1m1935/1935\u001b[0m \u001b[32m━━━━━━━━━━━━━━━━━━━━\u001b[0m\u001b[37m\u001b[0m \u001b[1m850s\u001b[0m 439ms/step - accuracy: 0.8586 - loss: 0.5398 - val_accuracy: 0.8341 - val_loss: 0.6988 - learning_rate: 2.1600e-04\n",
            "Epoch 20/50\n",
            "\u001b[1m1935/1935\u001b[0m \u001b[32m━━━━━━━━━━━━━━━━━━━━\u001b[0m\u001b[37m\u001b[0m \u001b[1m0s\u001b[0m 425ms/step - accuracy: 0.8609 - loss: 0.5307\n",
            "Epoch 20: val_loss did not improve from 0.69875\n",
            "\u001b[1m1935/1935\u001b[0m \u001b[32m━━━━━━━━━━━━━━━━━━━━\u001b[0m\u001b[37m\u001b[0m \u001b[1m846s\u001b[0m 437ms/step - accuracy: 0.8609 - loss: 0.5307 - val_accuracy: 0.8276 - val_loss: 0.7231 - learning_rate: 2.1600e-04\n",
            "Epoch 21/50\n",
            "\u001b[1m1935/1935\u001b[0m \u001b[32m━━━━━━━━━━━━━━━━━━━━\u001b[0m\u001b[37m\u001b[0m \u001b[1m0s\u001b[0m 424ms/step - accuracy: 0.8664 - loss: 0.5140\n",
            "Epoch 21: ReduceLROnPlateau reducing learning rate to 0.00012960000021848827.\n",
            "\n",
            "Epoch 21: val_loss did not improve from 0.69875\n",
            "\u001b[1m1935/1935\u001b[0m \u001b[32m━━━━━━━━━━━━━━━━━━━━\u001b[0m\u001b[37m\u001b[0m \u001b[1m845s\u001b[0m 437ms/step - accuracy: 0.8664 - loss: 0.5140 - val_accuracy: 0.8275 - val_loss: 0.7316 - learning_rate: 2.1600e-04\n",
            "Epoch 22/50\n",
            "\u001b[1m1935/1935\u001b[0m \u001b[32m━━━━━━━━━━━━━━━━━━━━\u001b[0m\u001b[37m\u001b[0m \u001b[1m0s\u001b[0m 424ms/step - accuracy: 0.8691 - loss: 0.4910\n",
            "Epoch 22: val_loss did not improve from 0.69875\n",
            "\u001b[1m1935/1935\u001b[0m \u001b[32m━━━━━━━━━━━━━━━━━━━━\u001b[0m\u001b[37m\u001b[0m \u001b[1m846s\u001b[0m 437ms/step - accuracy: 0.8691 - loss: 0.4910 - val_accuracy: 0.8315 - val_loss: 0.7043 - learning_rate: 1.2960e-04\n",
            "Epoch 23/50\n",
            "\u001b[1m1935/1935\u001b[0m \u001b[32m━━━━━━━━━━━━━━━━━━━━\u001b[0m\u001b[37m\u001b[0m \u001b[1m0s\u001b[0m 427ms/step - accuracy: 0.8755 - loss: 0.4691\n",
            "Epoch 23: ReduceLROnPlateau reducing learning rate to 7.775999838486313e-05.\n",
            "\n",
            "Epoch 23: val_loss did not improve from 0.69875\n",
            "\u001b[1m1935/1935\u001b[0m \u001b[32m━━━━━━━━━━━━━━━━━━━━\u001b[0m\u001b[37m\u001b[0m \u001b[1m851s\u001b[0m 440ms/step - accuracy: 0.8755 - loss: 0.4691 - val_accuracy: 0.8318 - val_loss: 0.7091 - learning_rate: 1.2960e-04\n",
            "Epoch 24/50\n",
            "\u001b[1m1935/1935\u001b[0m \u001b[32m━━━━━━━━━━━━━━━━━━━━\u001b[0m\u001b[37m\u001b[0m \u001b[1m0s\u001b[0m 426ms/step - accuracy: 0.8769 - loss: 0.4532\n",
            "Epoch 24: val_loss did not improve from 0.69875\n",
            "\u001b[1m1935/1935\u001b[0m \u001b[32m━━━━━━━━━━━━━━━━━━━━\u001b[0m\u001b[37m\u001b[0m \u001b[1m850s\u001b[0m 439ms/step - accuracy: 0.8769 - loss: 0.4532 - val_accuracy: 0.8331 - val_loss: 0.7100 - learning_rate: 7.7760e-05\n",
            "Epoch 25/50\n",
            "\u001b[1m1935/1935\u001b[0m \u001b[32m━━━━━━━━━━━━━━━━━━━━\u001b[0m\u001b[37m\u001b[0m \u001b[1m0s\u001b[0m 426ms/step - accuracy: 0.8812 - loss: 0.4412\n",
            "Epoch 25: ReduceLROnPlateau reducing learning rate to 4.6655999904032795e-05.\n",
            "\n",
            "Epoch 25: val_loss did not improve from 0.69875\n",
            "\u001b[1m1935/1935\u001b[0m \u001b[32m━━━━━━━━━━━━━━━━━━━━\u001b[0m\u001b[37m\u001b[0m \u001b[1m849s\u001b[0m 439ms/step - accuracy: 0.8812 - loss: 0.4412 - val_accuracy: 0.8330 - val_loss: 0.6990 - learning_rate: 7.7760e-05\n",
            "Epoch 26/50\n",
            "\u001b[1m1935/1935\u001b[0m \u001b[32m━━━━━━━━━━━━━━━━━━━━\u001b[0m\u001b[37m\u001b[0m \u001b[1m0s\u001b[0m 425ms/step - accuracy: 0.8843 - loss: 0.4250\n",
            "Epoch 26: val_loss did not improve from 0.69875\n",
            "\u001b[1m1935/1935\u001b[0m \u001b[32m━━━━━━━━━━━━━━━━━━━━\u001b[0m\u001b[37m\u001b[0m \u001b[1m846s\u001b[0m 437ms/step - accuracy: 0.8843 - loss: 0.4250 - val_accuracy: 0.8343 - val_loss: 0.7097 - learning_rate: 4.6656e-05\n",
            "Epoch 27/50\n",
            "\u001b[1m1935/1935\u001b[0m \u001b[32m━━━━━━━━━━━━━━━━━━━━\u001b[0m\u001b[37m\u001b[0m \u001b[1m0s\u001b[0m 426ms/step - accuracy: 0.8860 - loss: 0.4246\n",
            "Epoch 27: ReduceLROnPlateau reducing learning rate to 2.799360081553459e-05.\n",
            "\n",
            "Epoch 27: val_loss did not improve from 0.69875\n",
            "\u001b[1m1935/1935\u001b[0m \u001b[32m━━━━━━━━━━━━━━━━━━━━\u001b[0m\u001b[37m\u001b[0m \u001b[1m849s\u001b[0m 439ms/step - accuracy: 0.8860 - loss: 0.4246 - val_accuracy: 0.8337 - val_loss: 0.7037 - learning_rate: 4.6656e-05\n",
            "Epoch 28/50\n",
            "\u001b[1m1935/1935\u001b[0m \u001b[32m━━━━━━━━━━━━━━━━━━━━\u001b[0m\u001b[37m\u001b[0m \u001b[1m0s\u001b[0m 426ms/step - accuracy: 0.8869 - loss: 0.4130\n",
            "Epoch 28: val_loss improved from 0.69875 to 0.69336, saving model to /content/drive/MyDrive/results/DensNet_full_2.keras\n",
            "\u001b[1m1935/1935\u001b[0m \u001b[32m━━━━━━━━━━━━━━━━━━━━\u001b[0m\u001b[37m\u001b[0m \u001b[1m850s\u001b[0m 439ms/step - accuracy: 0.8869 - loss: 0.4130 - val_accuracy: 0.8371 - val_loss: 0.6934 - learning_rate: 2.7994e-05\n",
            "Epoch 29/50\n",
            "\u001b[1m1935/1935\u001b[0m \u001b[32m━━━━━━━━━━━━━━━━━━━━\u001b[0m\u001b[37m\u001b[0m \u001b[1m0s\u001b[0m 425ms/step - accuracy: 0.8880 - loss: 0.4084\n",
            "Epoch 29: val_loss did not improve from 0.69336\n",
            "\u001b[1m1935/1935\u001b[0m \u001b[32m━━━━━━━━━━━━━━━━━━━━\u001b[0m\u001b[37m\u001b[0m \u001b[1m847s\u001b[0m 437ms/step - accuracy: 0.8880 - loss: 0.4084 - val_accuracy: 0.8360 - val_loss: 0.6952 - learning_rate: 2.7994e-05\n",
            "Epoch 30/50\n",
            "\u001b[1m1935/1935\u001b[0m \u001b[32m━━━━━━━━━━━━━━━━━━━━\u001b[0m\u001b[37m\u001b[0m \u001b[1m0s\u001b[0m 426ms/step - accuracy: 0.8895 - loss: 0.4032\n",
            "Epoch 30: ReduceLROnPlateau reducing learning rate to 1.6796160707599483e-05.\n",
            "\n",
            "Epoch 30: val_loss did not improve from 0.69336\n",
            "\u001b[1m1935/1935\u001b[0m \u001b[32m━━━━━━━━━━━━━━━━━━━━\u001b[0m\u001b[37m\u001b[0m \u001b[1m849s\u001b[0m 439ms/step - accuracy: 0.8895 - loss: 0.4032 - val_accuracy: 0.8365 - val_loss: 0.6939 - learning_rate: 2.7994e-05\n",
            "Epoch 31/50\n",
            "\u001b[1m1935/1935\u001b[0m \u001b[32m━━━━━━━━━━━━━━━━━━━━\u001b[0m\u001b[37m\u001b[0m \u001b[1m0s\u001b[0m 428ms/step - accuracy: 0.8900 - loss: 0.4083\n",
            "Epoch 31: val_loss improved from 0.69336 to 0.69231, saving model to /content/drive/MyDrive/results/DensNet_full_2.keras\n",
            "\u001b[1m1935/1935\u001b[0m \u001b[32m━━━━━━━━━━━━━━━━━━━━\u001b[0m\u001b[37m\u001b[0m \u001b[1m854s\u001b[0m 441ms/step - accuracy: 0.8900 - loss: 0.4083 - val_accuracy: 0.8354 - val_loss: 0.6923 - learning_rate: 1.6796e-05\n",
            "Epoch 32/50\n",
            "\u001b[1m1935/1935\u001b[0m \u001b[32m━━━━━━━━━━━━━━━━━━━━\u001b[0m\u001b[37m\u001b[0m \u001b[1m0s\u001b[0m 427ms/step - accuracy: 0.8886 - loss: 0.4072\n",
            "Epoch 32: val_loss improved from 0.69231 to 0.68467, saving model to /content/drive/MyDrive/results/DensNet_full_2.keras\n",
            "\u001b[1m1935/1935\u001b[0m \u001b[32m━━━━━━━━━━━━━━━━━━━━\u001b[0m\u001b[37m\u001b[0m \u001b[1m854s\u001b[0m 441ms/step - accuracy: 0.8886 - loss: 0.4072 - val_accuracy: 0.8378 - val_loss: 0.6847 - learning_rate: 1.6796e-05\n",
            "Epoch 33/50\n",
            "\u001b[1m1935/1935\u001b[0m \u001b[32m━━━━━━━━━━━━━━━━━━━━\u001b[0m\u001b[37m\u001b[0m \u001b[1m0s\u001b[0m 428ms/step - accuracy: 0.8922 - loss: 0.3956\n",
            "Epoch 33: val_loss did not improve from 0.68467\n",
            "\u001b[1m1935/1935\u001b[0m \u001b[32m━━━━━━━━━━━━━━━━━━━━\u001b[0m\u001b[37m\u001b[0m \u001b[1m853s\u001b[0m 440ms/step - accuracy: 0.8922 - loss: 0.3956 - val_accuracy: 0.8371 - val_loss: 0.6898 - learning_rate: 1.6796e-05\n",
            "Epoch 34/50\n",
            "\u001b[1m 479/1935\u001b[0m \u001b[32m━━━━\u001b[0m\u001b[37m━━━━━━━━━━━━━━━━\u001b[0m \u001b[1m10:19\u001b[0m 426ms/step - accuracy: 0.8969 - loss: 0.3907"
          ]
        }
      ],
      "source": [
        "history = model_train()"
      ]
    },
    {
      "cell_type": "markdown",
      "metadata": {
        "id": "5sT4QGXOwwoE"
      },
      "source": [
        "# **Fine Tune**"
      ]
    },
    {
      "cell_type": "code",
      "execution_count": 9,
      "metadata": {
        "colab": {
          "base_uri": "https://localhost:8080/",
          "height": 1000
        },
        "id": "a64Rt8vGxMhp",
        "outputId": "db7fbbb8-5aad-4c22-ae3f-ada8a4976e0b"
      },
      "outputs": [
        {
          "name": "stdout",
          "output_type": "stream",
          "text": [
            "\u001b[1m242/242\u001b[0m \u001b[32m━━━━━━━━━━━━━━━━━━━━\u001b[0m\u001b[37m\u001b[0m \u001b[1m265s\u001b[0m 978ms/step - accuracy: 0.8403 - loss: 0.6603\n",
            "Validation Accuracy: 83.74%\n",
            "Epoch 1/10\n",
            "\u001b[1m2177/2177\u001b[0m \u001b[32m━━━━━━━━━━━━━━━━━━━━\u001b[0m\u001b[37m\u001b[0m \u001b[1m0s\u001b[0m 1s/step - accuracy: 0.8649 - loss: 0.4622\n",
            "Epoch 1: val_loss improved from inf to 0.63649, saving model to /content/drive/MyDrive/results/DensNet_full_2_fine_tune.keras\n",
            "\u001b[1m2177/2177\u001b[0m \u001b[32m━━━━━━━━━━━━━━━━━━━━\u001b[0m\u001b[37m\u001b[0m \u001b[1m2382s\u001b[0m 1s/step - accuracy: 0.8649 - loss: 0.4623 - val_accuracy: 0.8328 - val_loss: 0.6365 - learning_rate: 1.0000e-04\n",
            "Epoch 2/10\n",
            "\u001b[1m2177/2177\u001b[0m \u001b[32m━━━━━━━━━━━━━━━━━━━━\u001b[0m\u001b[37m\u001b[0m \u001b[1m0s\u001b[0m 425ms/step - accuracy: 0.8687 - loss: 0.4538\n",
            "Epoch 2: val_loss improved from 0.63649 to 0.62870, saving model to /content/drive/MyDrive/results/DensNet_full_2_fine_tune.keras\n",
            "\u001b[1m2177/2177\u001b[0m \u001b[32m━━━━━━━━━━━━━━━━━━━━\u001b[0m\u001b[37m\u001b[0m \u001b[1m940s\u001b[0m 432ms/step - accuracy: 0.8687 - loss: 0.4538 - val_accuracy: 0.8338 - val_loss: 0.6287 - learning_rate: 1.0000e-04\n",
            "Epoch 3/10\n",
            "\u001b[1m2177/2177\u001b[0m \u001b[32m━━━━━━━━━━━━━━━━━━━━\u001b[0m\u001b[37m\u001b[0m \u001b[1m0s\u001b[0m 425ms/step - accuracy: 0.8701 - loss: 0.4518\n",
            "Epoch 3: val_loss improved from 0.62870 to 0.62377, saving model to /content/drive/MyDrive/results/DensNet_full_2_fine_tune.keras\n",
            "\u001b[1m2177/2177\u001b[0m \u001b[32m━━━━━━━━━━━━━━━━━━━━\u001b[0m\u001b[37m\u001b[0m \u001b[1m940s\u001b[0m 432ms/step - accuracy: 0.8701 - loss: 0.4518 - val_accuracy: 0.8373 - val_loss: 0.6238 - learning_rate: 1.0000e-04\n",
            "Epoch 4/10\n",
            "\u001b[1m2177/2177\u001b[0m \u001b[32m━━━━━━━━━━━━━━━━━━━━\u001b[0m\u001b[37m\u001b[0m \u001b[1m0s\u001b[0m 425ms/step - accuracy: 0.8679 - loss: 0.4512\n",
            "Epoch 4: val_loss did not improve from 0.62377\n",
            "\u001b[1m2177/2177\u001b[0m \u001b[32m━━━━━━━━━━━━━━━━━━━━\u001b[0m\u001b[37m\u001b[0m \u001b[1m938s\u001b[0m 431ms/step - accuracy: 0.8679 - loss: 0.4513 - val_accuracy: 0.8341 - val_loss: 0.6421 - learning_rate: 1.0000e-04\n",
            "Epoch 5/10\n",
            "\u001b[1m2177/2177\u001b[0m \u001b[32m━━━━━━━━━━━━━━━━━━━━\u001b[0m\u001b[37m\u001b[0m \u001b[1m0s\u001b[0m 424ms/step - accuracy: 0.8725 - loss: 0.4393\n",
            "Epoch 5: val_loss improved from 0.62377 to 0.61527, saving model to /content/drive/MyDrive/results/DensNet_full_2_fine_tune.keras\n",
            "\u001b[1m2177/2177\u001b[0m \u001b[32m━━━━━━━━━━━━━━━━━━━━\u001b[0m\u001b[37m\u001b[0m \u001b[1m937s\u001b[0m 430ms/step - accuracy: 0.8725 - loss: 0.4393 - val_accuracy: 0.8385 - val_loss: 0.6153 - learning_rate: 1.0000e-04\n",
            "Epoch 6/10\n",
            "\u001b[1m2177/2177\u001b[0m \u001b[32m━━━━━━━━━━━━━━━━━━━━\u001b[0m\u001b[37m\u001b[0m \u001b[1m0s\u001b[0m 427ms/step - accuracy: 0.8729 - loss: 0.4375\n",
            "Epoch 6: val_loss did not improve from 0.61527\n",
            "\u001b[1m2177/2177\u001b[0m \u001b[32m━━━━━━━━━━━━━━━━━━━━\u001b[0m\u001b[37m\u001b[0m \u001b[1m942s\u001b[0m 432ms/step - accuracy: 0.8729 - loss: 0.4375 - val_accuracy: 0.8359 - val_loss: 0.6233 - learning_rate: 1.0000e-04\n",
            "Epoch 7/10\n",
            "\u001b[1m2177/2177\u001b[0m \u001b[32m━━━━━━━━━━━━━━━━━━━━\u001b[0m\u001b[37m\u001b[0m \u001b[1m0s\u001b[0m 424ms/step - accuracy: 0.8726 - loss: 0.4350\n",
            "Epoch 7: ReduceLROnPlateau reducing learning rate to 5.999999848427251e-05.\n",
            "\n",
            "Epoch 7: val_loss did not improve from 0.61527\n",
            "\u001b[1m2177/2177\u001b[0m \u001b[32m━━━━━━━━━━━━━━━━━━━━\u001b[0m\u001b[37m\u001b[0m \u001b[1m936s\u001b[0m 430ms/step - accuracy: 0.8726 - loss: 0.4350 - val_accuracy: 0.8369 - val_loss: 0.6242 - learning_rate: 1.0000e-04\n",
            "Epoch 8/10\n",
            "\u001b[1m2177/2177\u001b[0m \u001b[32m━━━━━━━━━━━━━━━━━━━━\u001b[0m\u001b[37m\u001b[0m \u001b[1m0s\u001b[0m 425ms/step - accuracy: 0.8746 - loss: 0.4329\n",
            "Epoch 8: val_loss did not improve from 0.61527\n",
            "\u001b[1m2177/2177\u001b[0m \u001b[32m━━━━━━━━━━━━━━━━━━━━\u001b[0m\u001b[37m\u001b[0m \u001b[1m938s\u001b[0m 431ms/step - accuracy: 0.8746 - loss: 0.4329 - val_accuracy: 0.8403 - val_loss: 0.6213 - learning_rate: 6.0000e-05\n",
            "Epoch 9/10\n",
            "\u001b[1m2177/2177\u001b[0m \u001b[32m━━━━━━━━━━━━━━━━━━━━\u001b[0m\u001b[37m\u001b[0m \u001b[1m0s\u001b[0m 426ms/step - accuracy: 0.8749 - loss: 0.4264\n",
            "Epoch 9: ReduceLROnPlateau reducing learning rate to 3.599999909056351e-05.\n",
            "\n",
            "Epoch 9: val_loss did not improve from 0.61527\n",
            "\u001b[1m2177/2177\u001b[0m \u001b[32m━━━━━━━━━━━━━━━━━━━━\u001b[0m\u001b[37m\u001b[0m \u001b[1m940s\u001b[0m 432ms/step - accuracy: 0.8749 - loss: 0.4264 - val_accuracy: 0.8403 - val_loss: 0.6167 - learning_rate: 6.0000e-05\n",
            "Epoch 10/10\n",
            "\u001b[1m2177/2177\u001b[0m \u001b[32m━━━━━━━━━━━━━━━━━━━━\u001b[0m\u001b[37m\u001b[0m \u001b[1m0s\u001b[0m 425ms/step - accuracy: 0.8772 - loss: 0.4147\n",
            "Epoch 10: val_loss did not improve from 0.61527\n",
            "\u001b[1m2177/2177\u001b[0m \u001b[32m━━━━━━━━━━━━━━━━━━━━\u001b[0m\u001b[37m\u001b[0m \u001b[1m937s\u001b[0m 430ms/step - accuracy: 0.8772 - loss: 0.4147 - val_accuracy: 0.8385 - val_loss: 0.6262 - learning_rate: 3.6000e-05\n"
          ]
        },
        {
          "data": {
            "image/png": "[encoded data removed]",
            "text/plain": [
              "<Figure size 1200x600 with 2 Axes>"
            ]
          },
          "metadata": {},
          "output_type": "display_data"
        }
      ],
      "source": [
        "def model_fine_tune():\n",
        "    global model, train_generator, val_generator, class_names\n",
        "\n",
        "    # model.summary()\n",
        "    # base_model.summary()\n",
        "    # Unfreeze the last 5 layers of the base model\n",
        "\n",
        "    model.trainable = True\n",
        "\n",
        "    for layer in model.layers:\n",
        "      if 'conv5' in layer.name:\n",
        "        layer.trainable = True\n",
        "      else:\n",
        "        layer.trainable = False\n",
        "\n",
        "    # Use a smaller learning rate to re-compile the model\n",
        "    model.compile(\n",
        "        optimizer=tf.keras.optimizers.Adam(learning_rate=1e-4),\n",
        "        loss='sparse_categorical_crossentropy',\n",
        "        metrics=['accuracy'])\n",
        "\n",
        "    # Compute class weights\n",
        "    class_weights = compute_class_weight(\n",
        "        class_weight='balanced',\n",
        "        classes=np.unique(class_names),\n",
        "        y=class_names\n",
        "    )\n",
        "    class_weights_dict = dict(enumerate(class_weights))\n",
        "\n",
        "    lr_scheduler = tf.keras.callbacks.ReduceLROnPlateau(\n",
        "        monitor='val_loss', factor=0.6, patience=2, verbose=1, min_lr=1e-5\n",
        "    )\n",
        "\n",
        "    early_stopping = tf.keras.callbacks.EarlyStopping(\n",
        "        monitor='val_loss', patience=5, restore_best_weights=True\n",
        "    )\n",
        "\n",
        "    checkpoint = ModelCheckpoint(\n",
        "        filepath=model_fint_tune_file_path,\n",
        "        monitor='val_loss',\n",
        "        save_best_only=True,\n",
        "        verbose=1\n",
        "    )\n",
        "\n",
        "    # Train the model\n",
        "    history = model.fit(\n",
        "        train_generator,\n",
        "        validation_data=val_generator,\n",
        "        epochs=10,\n",
        "        callbacks=[lr_scheduler, checkpoint],\n",
        "        class_weight=class_weights_dict\n",
        "    )\n",
        "    return history\n",
        "\n",
        "def model_eval():\n",
        "    global model, val_generator\n",
        "    loss, accuracy = model.evaluate(val_generator)\n",
        "    print(f\"Validation Accuracy: {accuracy * 100:.2f}%\")\n",
        "\n",
        "\n",
        "def plot_training_curves(history):\n",
        "    # Plot training & validation accuracy values\n",
        "    plt.figure(figsize=(12, 6))\n",
        "    plt.subplot(1, 2, 1)\n",
        "    plt.plot(history.history['accuracy'], label='Training Accuracy')\n",
        "    plt.plot(history.history['val_accuracy'], label='Validation Accuracy')\n",
        "    plt.title('Model Accuracy')\n",
        "    plt.xlabel('Epoch')\n",
        "    plt.ylabel('Accuracy')\n",
        "    plt.legend(loc='best')\n",
        "\n",
        "    # Plot training & validation loss values\n",
        "    plt.subplot(1, 2, 2)\n",
        "    plt.plot(history.history['loss'], label='Training Loss')\n",
        "    plt.plot(history.history['val_loss'], label='Validation Loss')\n",
        "    plt.title('Model Loss')\n",
        "    plt.xlabel('Epoch')\n",
        "    plt.ylabel('Loss')\n",
        "    plt.legend(loc='best')\n",
        "    plt.tight_layout()\n",
        "    plt.show()\n",
        "\n",
        "model_eval()\n",
        "history = model_fine_tune()\n",
        "plot_training_curves(history)"
      ]
    }
  ],
  "metadata": {
    "accelerator": "GPU",
    "colab": {
      "gpuType": "A100",
      "machine_shape": "hm",
      "provenance": []
    },
    "kernelspec": {
      "display_name": "Python 3",
      "name": "python3"
    },
    "language_info": {
      "name": "python",
      "version": "3.12.6"
    }
  },
  "nbformat": 4,
  "nbformat_minor": 0
}
